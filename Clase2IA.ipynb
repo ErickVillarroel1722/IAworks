{
  "nbformat": 4,
  "nbformat_minor": 0,
  "metadata": {
    "colab": {
      "provenance": [],
      "authorship_tag": "ABX9TyM3kzkVR+nzdz3FikkdLqn3",
      "include_colab_link": true
    },
    "kernelspec": {
      "name": "python3",
      "display_name": "Python 3"
    },
    "language_info": {
      "name": "python"
    }
  },
  "cells": [
    {
      "cell_type": "markdown",
      "metadata": {
        "id": "view-in-github",
        "colab_type": "text"
      },
      "source": [
        "<a href=\"https://colab.research.google.com/github/ErickVillarroel1722/IAworks/blob/main/Clase2IA.ipynb\" target=\"_parent\"><img src=\"https://colab.research.google.com/assets/colab-badge.svg\" alt=\"Open In Colab\"/></a>"
      ]
    },
    {
      "cell_type": "code",
      "execution_count": 7,
      "metadata": {
        "colab": {
          "base_uri": "https://localhost:8080/"
        },
        "id": "Rmz033LrQSxo",
        "outputId": "d855e0d1-22d4-43da-bf1a-5c10bc8442c0"
      },
      "outputs": [
        {
          "output_type": "stream",
          "name": "stdout",
          "text": [
            "   YearsExperience   Salary\n",
            "0             10.3  2500.00\n",
            "1             10.5  2489.40\n",
            "2              9.5  2389.25\n",
            "3              8.2  2324.76\n",
            "4              9.6  2300.72\n",
            "       YearsExperience       Salary\n",
            "count        30.000000    30.000000\n",
            "mean          5.313333  1552.462667\n",
            "std           2.837888   559.975954\n",
            "min           1.100000   770.710000\n",
            "25%           3.200000  1158.597500\n",
            "50%           4.700000  1332.555000\n",
            "75%           7.700000  2053.762500\n",
            "max          10.500000  2500.000000\n",
            "El error cuadratico medio es:  18281.097192677058\n",
            "El coeficiente de detertminacion es:  0.9331889697949135\n",
            "Coeficientes:  [186.15843582]\n",
            "Interseccion:  560.2272086944562\n"
          ]
        },
        {
          "output_type": "stream",
          "name": "stderr",
          "text": [
            "/usr/local/lib/python3.10/dist-packages/sklearn/base.py:439: UserWarning: X does not have valid feature names, but LinearRegression was fitted with feature names\n",
            "  warnings.warn(\n"
          ]
        }
      ],
      "source": [
        "import pandas as pd\n",
        "datos = pd.read_csv(\"Salary_Data1.csv\")\n",
        "print(datos.head())\n",
        "print(datos.describe())\n",
        "\n",
        "# Dividir datos en entrada y salida X y Y\n",
        "X = datos[['YearsExperience']]\n",
        "y = datos['Salary']\n",
        "\n",
        "from sklearn.model_selection import train_test_split\n",
        "\n",
        "# Dividir los datos en conjuntos de entrenamiento y prueba\n",
        "x_train, x_test, y_train, y_test = train_test_split(X, y, test_size=0.2, random_state=10)\n",
        "\n",
        "from sklearn.linear_model import LinearRegression\n",
        "\n",
        "# Crear modelo regresión lineal\n",
        "modelo = LinearRegression()\n",
        "\n",
        "# Entrenar modelo\n",
        "modelo.fit(x_train, y_train)\n",
        "\n",
        "# Prueba del modelo con los datos de prueba\n",
        "y_salida = modelo.predict(x_test)\n",
        "\n",
        "from sklearn.metrics import mean_squared_error, r2_score\n",
        "\n",
        "# Métricas de evaluación\n",
        "error = mean_squared_error(y_test, y_salida)\n",
        "print(\"El error cuadratico medio es: \",error)\n",
        "\n",
        "r2=r2_score(y_test, y_salida)\n",
        "print(\"El coeficiente de detertminacion es: \",r2)\n",
        "\n",
        "#realizar la prediccion\n",
        "\n",
        "y_salida=modelo.predict([[10.5]])\n",
        "y_salida\n",
        "\n",
        "#Coeficientes e interseccion\n",
        "print(\"Coeficientes: \",modelo.coef_)\n",
        "print(\"Interseccion: \",modelo.intercept_)\n"
      ]
    },
    {
      "cell_type": "code",
      "source": [
        "#Modelo Precio Vivienda\n",
        "\n",
        "import pandas as pd\n",
        "from sklearn.linear_model import LinearRegression\n",
        "import matplotlib.pyplot as plt\n",
        "\n",
        "# Leer los datos de las casas\n",
        "datos = pd.read_csv(\"datos_casas.csv\")\n",
        "\n",
        "# Definir las variables independientes (X) y dependientes (y)\n",
        "X = datos[['PiesCuadrados']]\n",
        "y = datos['PrecioVenta']\n",
        "\n",
        "# Crear el modelo de regresión lineal\n",
        "modelo = LinearRegression()\n",
        "\n",
        "# Entrenar el modelo con los datos\n",
        "modelo.fit(X, y)\n",
        "\n",
        "# Obtener los coeficientes de la ecuación de regresión\n",
        "pendiente = modelo.coef_[0]\n",
        "intercepto = modelo.intercept_\n",
        "\n",
        "print(f\"La ecuación de regresión estimada es: PrecioVenta = {pendiente} * PiesCuadrados + {intercepto}\")\n",
        "\n",
        "# Predecir el precio de venta para una casa de 2000 pies cuadrados\n",
        "pies_cuadrados = 2000\n",
        "precio_predicho = modelo.predict([[pies_cuadrados]])\n",
        "print(f\"El precio de venta predicho para una casa de 2000 pies cuadrados es: {precio_predicho}\")\n",
        "\n",
        "# Evaluar la predicción\n",
        "from sklearn.metrics import mean_squared_error, r2_score\n",
        "y_pred = modelo.predict(X)\n",
        "error = mean_squared_error(y, y_pred)\n",
        "r2 = r2_score(y, y_pred)\n",
        "print(f\"Error cuadrático medio: {error}\")\n",
        "print(f\"Coeficiente de determinación (R^2): {r2}\")\n",
        "\n",
        "# Crear el diagrama de dispersión\n",
        "plt.scatter(datos['PiesCuadrados'], datos['PrecioVenta'])\n",
        "plt.plot(X, y_pred, color='red')\n",
        "plt.xlabel('Pies Cuadrados')\n",
        "plt.ylabel('Precio de Venta')\n",
        "plt.title('Relación entre Pies Cuadrados y Precio de Venta')\n",
        "plt.show()"
      ],
      "metadata": {
        "id": "gn0ijTFiQYRi"
      },
      "execution_count": null,
      "outputs": []
    }
  ]
}